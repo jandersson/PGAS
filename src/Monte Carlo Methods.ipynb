{
 "cells": [
  {
   "cell_type": "code",
   "execution_count": 18,
   "metadata": {
    "collapsed": false
   },
   "outputs": [],
   "source": [
    "import numpy as np\n",
    "import seaborn as sns\n",
    "import pylab as plt\n",
    "%matplotlib inline"
   ]
  },
  {
   "cell_type": "markdown",
   "metadata": {},
   "source": [
    "# Monte Carlo\n",
    "Gives you a ballpark figure of the expectation of some distritbution using samples. \n"
   ]
  },
  {
   "cell_type": "markdown",
   "metadata": {},
   "source": [
    "## Example: Estimating Pi with Monte Carlo\n",
    "Example is drawn from a lecture by Ian Murray: http://videolectures.net/mlss09uk_murray_mcmc/"
   ]
  },
  {
   "cell_type": "markdown",
   "metadata": {},
   "source": [
    "We use an indicator function to ask \"Are you inside this *unit* circle?\" The indicator function looks like: $I(x^2+y^2 < 1)$\n",
    "\n",
    "The example is only working with a quarter of the unit circle (first quadrant), so we multiply by 4.\n",
    "\n",
    "The estimation function works like this: Draw $N$ samples for $x$ and $y$ and put them into a $Nx2$ matrix. Then we compute the indicator function for each row or sample in the matrix. After that we take the expectation or mean of the result. We can see that with only 10 samples, we can get pretty close to the true value. It should be noted that we'll never get the true value, and if that's necessary Monte Carlo methods are not the right choice.\n",
    "\n",
    "\"This is a really stupid way to estimate pi\""
   ]
  },
  {
   "cell_type": "code",
   "execution_count": 19,
   "metadata": {
    "collapsed": false
   },
   "outputs": [],
   "source": [
    "def estimate_pi(num_samples=10):\n",
    "    dimensions = 2\n",
    "    samples = np.random.rand(num_samples, dimensions)\n",
    "    pi = 4*np.mean(np.sum(np.multiply(samples,samples),1)<1)\n",
    "    return pi"
   ]
  },
  {
   "cell_type": "code",
   "execution_count": 20,
   "metadata": {
    "collapsed": false
   },
   "outputs": [
    {
     "data": {
      "text/plain": [
       "4.0"
      ]
     },
     "execution_count": 20,
     "metadata": {},
     "output_type": "execute_result"
    }
   ],
   "source": [
    "num_samples = 10\n",
    "pi = estimate_pi(num_samples)\n",
    "pi"
   ]
  },
  {
   "cell_type": "code",
   "execution_count": 21,
   "metadata": {
    "collapsed": false
   },
   "outputs": [
    {
     "data": {
      "text/plain": [
       "3.1415114399999999"
      ]
     },
     "execution_count": 21,
     "metadata": {},
     "output_type": "execute_result"
    }
   ],
   "source": [
    "num_samples = 100000000\n",
    "pi = estimate_pi(num_samples)\n",
    "pi"
   ]
  },
  {
   "cell_type": "markdown",
   "metadata": {
    "collapsed": true
   },
   "source": [
    "# Markov Chains"
   ]
  },
  {
   "cell_type": "markdown",
   "metadata": {},
   "source": [
    "Under what circumstances will a Markov Chain converge to a desired distribution? A Markov Chain simply consists of a set of random variables $\\textbf{z}^{(\\tau)}$ The probability of a state given the previous state is conditionally independent of all previous states $P(\\textbf{z}^{(\\tau)}|\\textbf{z}^{(\\tau-1)})$\n",
    "\n",
    "Markov Chains are specified by giving a probability of the initial state $\\textbf{z}^0$ and transition probabilities for $P(\\textbf{z}^{(\\tau)}|\\textbf{z}^{(\\tau-1)})$"
   ]
  },
  {
   "cell_type": "markdown",
   "metadata": {},
   "source": [
    "#### You can ignore the code below, its not used for anything"
   ]
  },
  {
   "cell_type": "code",
   "execution_count": 22,
   "metadata": {
    "collapsed": true
   },
   "outputs": [],
   "source": [
    "class MarkovChain:\n",
    "    def __init__(self, num_states, T=None, pi=None):\n",
    "        self.num_states = num_states \n",
    "        self.state_sequence = np.zeros(2)\n",
    "        if T == None:\n",
    "            self.T = generate_matrix(num_states)\n",
    "        else:\n",
    "            self.T = T\n",
    "        if pi == None:\n",
    "            self.pi = generate_vector(num_states)\n",
    "        else:\n",
    "            self.pi = pi"
   ]
  },
  {
   "cell_type": "code",
   "execution_count": 23,
   "metadata": {
    "collapsed": true
   },
   "outputs": [],
   "source": [
    "def generate_matrix(n):\n",
    "    ## Return a nxn uniformly random row stochastic matrix\n",
    "    matrix = np.random.rand(n,n)\n",
    "    for i in range(n):\n",
    "        matrix[i,:] = matrix[i,:]/np.sum(matrix[i,:])\n",
    "    return matrix\n",
    "\n",
    "def generate_vector(n):\n",
    "    ## Return a n element uniform stochastic vector\n",
    "    vector = np.random.rand(n) \n",
    "    vector = vector/np.sum(vector) #Normalize\n",
    "    return vector"
   ]
  },
  {
   "cell_type": "markdown",
   "metadata": {},
   "source": [
    "# Markov Chain Monte Carlo\n",
    "Markov Chain Monte Carlo (MCMC) attempts to sample from a posterior distribution. MCMC works particularly well on high-dimensional spaces and on a large class of distributions.\n",
    "\n",
    "We sample from a simple proposal distribution (simple enough to draw samples from). We also maintain a record of the current state $\\textbf{z}^\\tau$. The next sample depends on the current state, $q(\\textbf{z}|\\textbf{z}^{(\\tau)})$. So the sequence of samples form a Markov Chain.\n",
    "\n",
    "At each cycle of the algorithm, generate a *candidate sample* from the proposal distribution. Accept or reject the sample using some criterion. There are several flavors or algorithms for MCMC, the simplest being the Metropolis algorithm. \n",
    "## Metropolis Hastings\n"
   ]
  },
  {
   "cell_type": "markdown",
   "metadata": {},
   "source": [
    "This algorithm is synonymous with MCMC as it is typically the first algorithm used to demonstrate MCMC. \n",
    "\n",
    "We want to sample our proposals from some distribution $Q \\sim \\mathcal{N(x,\\sigma^2)}$ \n",
    "\n",
    "We choose our proposal distribution to be a Gaussian because its convenient to sample from. We use the mean $x$ to say that our sample mean is the state *we are in now* with some noise $\\sigma^2$."
   ]
  },
  {
   "cell_type": "markdown",
   "metadata": {},
   "source": [
    "### Example: Step Size Demo\n",
    "Notes and code taken directly from Ian Murrays lecture: http://videolectures.net/mlss09uk_murray_mcmc/\n",
    "\n",
    "\n",
    "Explore a space $\\mathcal{N}(0,1)$ with step sizes $\\sigma$"
   ]
  },
  {
   "cell_type": "code",
   "execution_count": 24,
   "metadata": {
    "collapsed": true
   },
   "outputs": [],
   "source": [
    "#Demo code from Ian Murrays lecture (rewritten in numpy/python)\n",
    "def testing(x):\n",
    "    return -0.5*x*x\n",
    "\n",
    "def dumb_metropolis(init, log_ptilde, iters, sigma):\n",
    "    '''\n",
    "    log_ptilde: function handle saying this is my log probability function up to a constant\n",
    "    '''\n",
    "    D = init.size # Not used\n",
    "    samples = np.zeros(iters)\n",
    "    state = init\n",
    "    Lp_state = log_ptilde(state)\n",
    "    rand = np.random.randn()\n",
    "    accepts = 0\n",
    "    for ss in range(iters):\n",
    "        #Propose\n",
    "        # Draw from a normal distribution with our mean as the current state and some noise sigma\n",
    "        prop = state + sigma*np.random.randn(state.size)\n",
    "        Lp_prop = log_ptilde(prop)\n",
    "        if np.log(np.random.randn()) < (Lp_prop - Lp_state):\n",
    "            #Accept\n",
    "            state = prop\n",
    "            Lp_state = Lp_prop\n",
    "            accepts += 1\n",
    "        samples[ss] = state\n",
    "    return samples, accepts"
   ]
  },
  {
   "cell_type": "code",
   "execution_count": 25,
   "metadata": {
    "collapsed": true
   },
   "outputs": [],
   "source": [
    "init = np.asarray(0)"
   ]
  },
  {
   "cell_type": "markdown",
   "metadata": {},
   "source": [
    "Propose new states with step size 100. This isn't very probable under a unit Gaussian, so almost all proposals are rejected and we remain in the current state for a very long time. By a very small chance, we draw a small value and our proposal is accepted, we perturb where we are and stay there for a very long time. It is hard to argue that we have 1000 samples to work with when we almost never move. "
   ]
  },
  {
   "cell_type": "code",
   "execution_count": 26,
   "metadata": {
    "collapsed": false
   },
   "outputs": [
    {
     "data": {
      "image/png": "[encoded data removed]",
      "text/plain": [
       "<matplotlib.figure.Figure at 0x7f44385e89e8>"
      ]
     },
     "metadata": {},
     "output_type": "display_data"
    },
    {
     "name": "stdout",
     "output_type": "stream",
     "text": [
      "0.4% accepts\n"
     ]
    }
   ],
   "source": [
    "sigma = 100\n",
    "samples, acceptance = dumb_metropolis(init, testing, 1000, sigma)\n",
    "plt.plot(samples)\n",
    "plt.show()\n",
    "acceptance = acceptance/1000\n",
    "print(str(acceptance*100) + \"% accepts\")"
   ]
  },
  {
   "cell_type": "markdown",
   "metadata": {},
   "source": [
    "Here we use $\\sigma = 1$ so we have the width of our proposal similar to the width of our distribution. "
   ]
  },
  {
   "cell_type": "code",
   "execution_count": 27,
   "metadata": {
    "collapsed": false
   },
   "outputs": [
    {
     "name": "stdout",
     "output_type": "stream",
     "text": [
      "(10000,)\n"
     ]
    },
    {
     "data": {
      "image/png": "[encoded data removed]",
      "text/plain": [
       "<matplotlib.figure.Figure at 0x7f4434d74f98>"
      ]
     },
     "metadata": {},
     "output_type": "display_data"
    },
    {
     "name": "stdout",
     "output_type": "stream",
     "text": [
      "26.36% accepts\n"
     ]
    }
   ],
   "source": [
    "sigma = 1\n",
    "samples, acceptance = dumb_metropolis(init,testing,10000, sigma)\n",
    "print(samples.shape)\n",
    "plt.plot(samples)\n",
    "plt.show()\n",
    "acceptance = acceptance/10000\n",
    "print(str(acceptance*100) + \"% accepts\")"
   ]
  },
  {
   "cell_type": "code",
   "execution_count": 28,
   "metadata": {
    "collapsed": false
   },
   "outputs": [
    {
     "data": {
      "image/png": "[encoded data removed]",
      "text/plain": [
       "<matplotlib.figure.Figure at 0x7f44385dfcf8>"
      ]
     },
     "metadata": {},
     "output_type": "display_data"
    },
    {
     "name": "stdout",
     "output_type": "stream",
     "text": [
      "34.69% accepts\n"
     ]
    }
   ],
   "source": [
    "sigma = 0.1\n",
    "samples, acceptance = dumb_metropolis(init, testing, 10000, sigma)\n",
    "plt.plot(samples)\n",
    "plt.show()\n",
    "acceptance = acceptance/10000\n",
    "print(str(acceptance*100) + \"% accepts\")"
   ]
  },
  {
   "cell_type": "markdown",
   "metadata": {},
   "source": [
    "Too much acceptance is bad because the rejection is the only thing that tells us about the distribution we want to explore. Elsewise, if all moves are accepted then we are just taking a random walk, proposed by Q, and has no relation our problem. The accept/reject stage provides a bit of information and it is the only input to the algorithm about the distribution you're interested in. So the optimal acceptance rate is not 100%. You're aiming for \"about a half\" due to the concept of information gain. However it is a little less than a half because the information you're being given is not independent (due to Markovianity). "
   ]
  },
  {
   "cell_type": "markdown",
   "metadata": {},
   "source": [
    "# Sequential Monte Carlo (Particle Filters)"
   ]
  },
  {
   "cell_type": "markdown",
   "metadata": {},
   "source": [
    "Notes from: Udacity course Computer Vision https://www.udacity.com/course/viewer#!/c-ud810/l-3353778638/m-3345078563\n",
    "\n",
    "The basic idea is to represent a density by a set of samples or particles rather than represent it analytically. The particles can have a weight attached to them. "
   ]
  },
  {
   "cell_type": "code",
   "execution_count": 29,
   "metadata": {
    "collapsed": true
   },
   "outputs": [],
   "source": [
    "def f(xt, t):\n",
    "    return 0.5*xt + 25*xt/(1+np.square(xt)) + 8*np.cos(1.2*t)\n",
    "\n",
    "def h(xt):\n",
    "    return np.square(xt)/20"
   ]
  },
  {
   "cell_type": "code",
   "execution_count": 39,
   "metadata": {
    "collapsed": true
   },
   "outputs": [],
   "source": [
    "T = 100\n",
    "q0 = 0.1\n",
    "r0 = 1\n",
    "iters = 3000\n",
    "qinit = 1\n",
    "rinit = 0.1\n",
    "num_particles = 500"
   ]
  },
  {
   "cell_type": "code",
   "execution_count": 40,
   "metadata": {
    "collapsed": false
   },
   "outputs": [],
   "source": [
    "def generate_data(T, q, r):\n",
    "    '''\n",
    "    T: Final time step (length of time)\n",
    "    '''\n",
    "    x = np.zeros(T)\n",
    "    y = np.zeros(T)\n",
    "    for t in range(T):\n",
    "        if t < (T-1):\n",
    "            x[t+1] = f(x[t],t) + np.sqrt(q)*np.random.randn(1)\n",
    "        y[t] = h(x[t]) + np.sqrt(r)*np.random.randn(1)\n",
    "    return x, y, q, r"
   ]
  },
  {
   "cell_type": "code",
   "execution_count": null,
   "metadata": {
    "collapsed": true
   },
   "outputs": [],
   "source": [
    "def resampling():\n",
    "    pass"
   ]
  },
  {
   "cell_type": "code",
   "execution_count": null,
   "metadata": {
    "collapsed": true
   },
   "outputs": [],
   "source": [
    "T = y.size[0]\n",
    "q = np.zeros(iters)\n",
    "r = np.zeros(iters)\n",
    "X = np.zeros((iters, T))\n",
    "loglik = np.zeros(iters)\n",
    "q[0] = qinit\n",
    "r[0] = rinit\n",
    "#Particle filter\n",
    "x_pf = np.zeros(num_particles,T)\n",
    "a_pf = np.zeros(num_particles,T) #ancestor indices\n",
    "w_pf = np.zeros(num_particles,T) #weights\n",
    "loglik = 0\n",
    "for t in range(T):\n",
    "    if t != 0:\n",
    "        ind = resampling(w[:,t-1])"
   ]
  }
 ],
 "metadata": {
  "kernelspec": {
   "display_name": "Python 3",
   "language": "python",
   "name": "python3"
  },
  "language_info": {
   "codemirror_mode": {
    "name": "ipython",
    "version": 3
   },
   "file_extension": ".py",
   "mimetype": "text/x-python",
   "name": "python",
   "nbconvert_exporter": "python",
   "pygments_lexer": "ipython3",
   "version": "3.5.1"
  }
 },
 "nbformat": 4,
 "nbformat_minor": 0
}
